{
 "cells": [
  {
   "cell_type": "code",
   "execution_count": 9,
   "id": "2d0ffac5-5613-4eab-96cd-20ee92ed1127",
   "metadata": {
    "execution": {
     "iopub.execute_input": "2022-02-08T17:50:00.644947Z",
     "iopub.status.busy": "2022-02-08T17:50:00.644683Z",
     "iopub.status.idle": "2022-02-08T17:50:00.677898Z",
     "shell.execute_reply": "2022-02-08T17:50:00.677091Z",
     "shell.execute_reply.started": "2022-02-08T17:50:00.644918Z"
    },
    "tags": []
   },
   "outputs": [],
   "source": [
    "import pandas as pd\n",
    "\n",
    "from pytictoc import TicToc"
   ]
  },
  {
   "cell_type": "code",
   "execution_count": 10,
   "id": "1f0a3286-8660-49c9-8285-ae986d76348c",
   "metadata": {
    "execution": {
     "iopub.execute_input": "2022-02-08T17:50:00.830047Z",
     "iopub.status.busy": "2022-02-08T17:50:00.829751Z",
     "iopub.status.idle": "2022-02-08T17:50:00.869223Z",
     "shell.execute_reply": "2022-02-08T17:50:00.868509Z",
     "shell.execute_reply.started": "2022-02-08T17:50:00.830021Z"
    },
    "tags": []
   },
   "outputs": [],
   "source": [
    "df = pd.read_csv(\"pandas_apply_vs_agg/data/IMDB-Movie-Data.csv\")"
   ]
  },
  {
   "cell_type": "code",
   "execution_count": 11,
   "id": "010e46ec-ea7a-46a9-9273-a37f1c7b0d89",
   "metadata": {
    "execution": {
     "iopub.execute_input": "2022-02-08T17:50:00.960911Z",
     "iopub.status.busy": "2022-02-08T17:50:00.960660Z",
     "iopub.status.idle": "2022-02-08T17:50:01.015128Z",
     "shell.execute_reply": "2022-02-08T17:50:01.014535Z",
     "shell.execute_reply.started": "2022-02-08T17:50:00.960884Z"
    },
    "tags": []
   },
   "outputs": [
    {
     "name": "stdout",
     "output_type": "stream",
     "text": [
      "Elapsed time is 0.020834 seconds.\n"
     ]
    }
   ],
   "source": [
    "with TicToc():\n",
    "    metascore_mean_apply = df.groupby(\"Genre\").apply(lambda x: x[\"Metascore\"].mean())"
   ]
  },
  {
   "cell_type": "code",
   "execution_count": 12,
   "id": "5f3dfd15-b66d-40a2-bcdb-10741d8bb959",
   "metadata": {
    "execution": {
     "iopub.execute_input": "2022-02-08T17:50:01.121508Z",
     "iopub.status.busy": "2022-02-08T17:50:01.121256Z",
     "iopub.status.idle": "2022-02-08T17:50:01.160867Z",
     "shell.execute_reply": "2022-02-08T17:50:01.160178Z",
     "shell.execute_reply.started": "2022-02-08T17:50:01.121482Z"
    },
    "tags": []
   },
   "outputs": [
    {
     "name": "stdout",
     "output_type": "stream",
     "text": [
      "Elapsed time is 0.001822 seconds.\n"
     ]
    }
   ],
   "source": [
    "with TicToc():\n",
    "    metascore_mean_agg = df.groupby(\"Genre\").agg({\"Metascore\": \"mean\"})"
   ]
  },
  {
   "cell_type": "code",
   "execution_count": 13,
   "id": "151d658a-4d77-414b-b1ca-7437e4b8f128",
   "metadata": {
    "execution": {
     "iopub.execute_input": "2022-02-08T17:50:05.625298Z",
     "iopub.status.busy": "2022-02-08T17:50:05.625003Z",
     "iopub.status.idle": "2022-02-08T17:50:05.660112Z",
     "shell.execute_reply": "2022-02-08T17:50:05.659347Z",
     "shell.execute_reply.started": "2022-02-08T17:50:05.625263Z"
    }
   },
   "outputs": [
    {
     "data": {
      "text/plain": [
       "Genre\n",
       "Action                        37.000000\n",
       "Action,Adventure              57.333333\n",
       "Action,Adventure,Biography    62.500000\n",
       "Action,Adventure,Comedy       47.214286\n",
       "Action,Adventure,Crime        48.333333\n",
       "                                ...    \n",
       "Romance,Sci-Fi,Thriller             NaN\n",
       "Sci-Fi                        53.000000\n",
       "Sci-Fi,Thriller               34.000000\n",
       "Thriller                      59.714286\n",
       "Thriller,War                  40.000000\n",
       "Length: 207, dtype: float64"
      ]
     },
     "execution_count": 13,
     "metadata": {},
     "output_type": "execute_result"
    }
   ],
   "source": [
    "metascore_mean_apply"
   ]
  },
  {
   "cell_type": "code",
   "execution_count": 14,
   "id": "0dceb413-f351-4b8f-ad16-087df5e072e4",
   "metadata": {
    "execution": {
     "iopub.execute_input": "2022-02-08T17:50:09.555267Z",
     "iopub.status.busy": "2022-02-08T17:50:09.555008Z",
     "iopub.status.idle": "2022-02-08T17:50:09.590502Z",
     "shell.execute_reply": "2022-02-08T17:50:09.589857Z",
     "shell.execute_reply.started": "2022-02-08T17:50:09.555238Z"
    }
   },
   "outputs": [
    {
     "data": {
      "text/html": [
       "<div>\n",
       "<style scoped>\n",
       "    .dataframe tbody tr th:only-of-type {\n",
       "        vertical-align: middle;\n",
       "    }\n",
       "\n",
       "    .dataframe tbody tr th {\n",
       "        vertical-align: top;\n",
       "    }\n",
       "\n",
       "    .dataframe thead th {\n",
       "        text-align: right;\n",
       "    }\n",
       "</style>\n",
       "<table border=\"1\" class=\"dataframe\">\n",
       "  <thead>\n",
       "    <tr style=\"text-align: right;\">\n",
       "      <th></th>\n",
       "      <th>Metascore</th>\n",
       "    </tr>\n",
       "    <tr>\n",
       "      <th>Genre</th>\n",
       "      <th></th>\n",
       "    </tr>\n",
       "  </thead>\n",
       "  <tbody>\n",
       "    <tr>\n",
       "      <th>Action</th>\n",
       "      <td>37.000000</td>\n",
       "    </tr>\n",
       "    <tr>\n",
       "      <th>Action,Adventure</th>\n",
       "      <td>57.333333</td>\n",
       "    </tr>\n",
       "    <tr>\n",
       "      <th>Action,Adventure,Biography</th>\n",
       "      <td>62.500000</td>\n",
       "    </tr>\n",
       "    <tr>\n",
       "      <th>Action,Adventure,Comedy</th>\n",
       "      <td>47.214286</td>\n",
       "    </tr>\n",
       "    <tr>\n",
       "      <th>Action,Adventure,Crime</th>\n",
       "      <td>48.333333</td>\n",
       "    </tr>\n",
       "    <tr>\n",
       "      <th>...</th>\n",
       "      <td>...</td>\n",
       "    </tr>\n",
       "    <tr>\n",
       "      <th>Romance,Sci-Fi,Thriller</th>\n",
       "      <td>NaN</td>\n",
       "    </tr>\n",
       "    <tr>\n",
       "      <th>Sci-Fi</th>\n",
       "      <td>53.000000</td>\n",
       "    </tr>\n",
       "    <tr>\n",
       "      <th>Sci-Fi,Thriller</th>\n",
       "      <td>34.000000</td>\n",
       "    </tr>\n",
       "    <tr>\n",
       "      <th>Thriller</th>\n",
       "      <td>59.714286</td>\n",
       "    </tr>\n",
       "    <tr>\n",
       "      <th>Thriller,War</th>\n",
       "      <td>40.000000</td>\n",
       "    </tr>\n",
       "  </tbody>\n",
       "</table>\n",
       "<p>207 rows × 1 columns</p>\n",
       "</div>"
      ],
      "text/plain": [
       "                            Metascore\n",
       "Genre                                \n",
       "Action                      37.000000\n",
       "Action,Adventure            57.333333\n",
       "Action,Adventure,Biography  62.500000\n",
       "Action,Adventure,Comedy     47.214286\n",
       "Action,Adventure,Crime      48.333333\n",
       "...                               ...\n",
       "Romance,Sci-Fi,Thriller           NaN\n",
       "Sci-Fi                      53.000000\n",
       "Sci-Fi,Thriller             34.000000\n",
       "Thriller                    59.714286\n",
       "Thriller,War                40.000000\n",
       "\n",
       "[207 rows x 1 columns]"
      ]
     },
     "execution_count": 14,
     "metadata": {},
     "output_type": "execute_result"
    }
   ],
   "source": [
    "metascore_mean_agg"
   ]
  },
  {
   "cell_type": "code",
   "execution_count": 16,
   "id": "01f41e48-401f-420b-b9e2-1cb4914661b8",
   "metadata": {
    "execution": {
     "iopub.execute_input": "2022-02-08T18:24:52.966320Z",
     "iopub.status.busy": "2022-02-08T18:24:52.966053Z",
     "iopub.status.idle": "2022-02-08T18:25:04.061920Z",
     "shell.execute_reply": "2022-02-08T18:25:04.061352Z",
     "shell.execute_reply.started": "2022-02-08T18:24:52.966292Z"
    },
    "tags": []
   },
   "outputs": [],
   "source": [
    "df = pd.read_csv(\"/Users/dhaifbekha/Downloads/yellow_tripdata_2019-02.csv\")"
   ]
  },
  {
   "cell_type": "code",
   "execution_count": 17,
   "id": "1f6ab431-b799-474e-95ef-490437a4e182",
   "metadata": {
    "execution": {
     "iopub.execute_input": "2022-02-08T18:26:11.627963Z",
     "iopub.status.busy": "2022-02-08T18:26:11.627715Z",
     "iopub.status.idle": "2022-02-08T18:26:11.681645Z",
     "shell.execute_reply": "2022-02-08T18:26:11.680999Z",
     "shell.execute_reply.started": "2022-02-08T18:26:11.627937Z"
    }
   },
   "outputs": [
    {
     "data": {
      "text/html": [
       "<div>\n",
       "<style scoped>\n",
       "    .dataframe tbody tr th:only-of-type {\n",
       "        vertical-align: middle;\n",
       "    }\n",
       "\n",
       "    .dataframe tbody tr th {\n",
       "        vertical-align: top;\n",
       "    }\n",
       "\n",
       "    .dataframe thead th {\n",
       "        text-align: right;\n",
       "    }\n",
       "</style>\n",
       "<table border=\"1\" class=\"dataframe\">\n",
       "  <thead>\n",
       "    <tr style=\"text-align: right;\">\n",
       "      <th></th>\n",
       "      <th>VendorID</th>\n",
       "      <th>tpep_pickup_datetime</th>\n",
       "      <th>tpep_dropoff_datetime</th>\n",
       "      <th>passenger_count</th>\n",
       "      <th>trip_distance</th>\n",
       "      <th>RatecodeID</th>\n",
       "      <th>store_and_fwd_flag</th>\n",
       "      <th>PULocationID</th>\n",
       "      <th>DOLocationID</th>\n",
       "      <th>payment_type</th>\n",
       "      <th>fare_amount</th>\n",
       "      <th>extra</th>\n",
       "      <th>mta_tax</th>\n",
       "      <th>tip_amount</th>\n",
       "      <th>tolls_amount</th>\n",
       "      <th>improvement_surcharge</th>\n",
       "      <th>total_amount</th>\n",
       "      <th>congestion_surcharge</th>\n",
       "    </tr>\n",
       "  </thead>\n",
       "  <tbody>\n",
       "    <tr>\n",
       "      <th>0</th>\n",
       "      <td>1</td>\n",
       "      <td>2019-02-01 00:59:04</td>\n",
       "      <td>2019-02-01 01:07:27</td>\n",
       "      <td>1</td>\n",
       "      <td>2.1</td>\n",
       "      <td>1</td>\n",
       "      <td>N</td>\n",
       "      <td>48</td>\n",
       "      <td>234</td>\n",
       "      <td>1</td>\n",
       "      <td>9.0</td>\n",
       "      <td>0.5</td>\n",
       "      <td>0.5</td>\n",
       "      <td>2.0</td>\n",
       "      <td>0.0</td>\n",
       "      <td>0.3</td>\n",
       "      <td>12.3</td>\n",
       "      <td>0.0</td>\n",
       "    </tr>\n",
       "    <tr>\n",
       "      <th>1</th>\n",
       "      <td>1</td>\n",
       "      <td>2019-02-01 00:33:09</td>\n",
       "      <td>2019-02-01 01:03:58</td>\n",
       "      <td>1</td>\n",
       "      <td>9.8</td>\n",
       "      <td>1</td>\n",
       "      <td>N</td>\n",
       "      <td>230</td>\n",
       "      <td>93</td>\n",
       "      <td>2</td>\n",
       "      <td>32.0</td>\n",
       "      <td>0.5</td>\n",
       "      <td>0.5</td>\n",
       "      <td>0.0</td>\n",
       "      <td>0.0</td>\n",
       "      <td>0.3</td>\n",
       "      <td>33.3</td>\n",
       "      <td>0.0</td>\n",
       "    </tr>\n",
       "    <tr>\n",
       "      <th>2</th>\n",
       "      <td>1</td>\n",
       "      <td>2019-02-01 00:09:03</td>\n",
       "      <td>2019-02-01 00:09:16</td>\n",
       "      <td>1</td>\n",
       "      <td>0.0</td>\n",
       "      <td>1</td>\n",
       "      <td>N</td>\n",
       "      <td>145</td>\n",
       "      <td>145</td>\n",
       "      <td>2</td>\n",
       "      <td>2.5</td>\n",
       "      <td>0.5</td>\n",
       "      <td>0.5</td>\n",
       "      <td>0.0</td>\n",
       "      <td>0.0</td>\n",
       "      <td>0.3</td>\n",
       "      <td>3.8</td>\n",
       "      <td>0.0</td>\n",
       "    </tr>\n",
       "    <tr>\n",
       "      <th>3</th>\n",
       "      <td>1</td>\n",
       "      <td>2019-02-01 00:45:38</td>\n",
       "      <td>2019-02-01 00:51:10</td>\n",
       "      <td>1</td>\n",
       "      <td>0.8</td>\n",
       "      <td>1</td>\n",
       "      <td>N</td>\n",
       "      <td>95</td>\n",
       "      <td>95</td>\n",
       "      <td>2</td>\n",
       "      <td>5.5</td>\n",
       "      <td>0.5</td>\n",
       "      <td>0.5</td>\n",
       "      <td>0.0</td>\n",
       "      <td>0.0</td>\n",
       "      <td>0.3</td>\n",
       "      <td>6.8</td>\n",
       "      <td>0.0</td>\n",
       "    </tr>\n",
       "    <tr>\n",
       "      <th>4</th>\n",
       "      <td>1</td>\n",
       "      <td>2019-02-01 00:25:30</td>\n",
       "      <td>2019-02-01 00:28:14</td>\n",
       "      <td>1</td>\n",
       "      <td>0.8</td>\n",
       "      <td>1</td>\n",
       "      <td>N</td>\n",
       "      <td>140</td>\n",
       "      <td>263</td>\n",
       "      <td>2</td>\n",
       "      <td>5.0</td>\n",
       "      <td>0.5</td>\n",
       "      <td>0.5</td>\n",
       "      <td>0.0</td>\n",
       "      <td>0.0</td>\n",
       "      <td>0.3</td>\n",
       "      <td>6.3</td>\n",
       "      <td>0.0</td>\n",
       "    </tr>\n",
       "    <tr>\n",
       "      <th>...</th>\n",
       "      <td>...</td>\n",
       "      <td>...</td>\n",
       "      <td>...</td>\n",
       "      <td>...</td>\n",
       "      <td>...</td>\n",
       "      <td>...</td>\n",
       "      <td>...</td>\n",
       "      <td>...</td>\n",
       "      <td>...</td>\n",
       "      <td>...</td>\n",
       "      <td>...</td>\n",
       "      <td>...</td>\n",
       "      <td>...</td>\n",
       "      <td>...</td>\n",
       "      <td>...</td>\n",
       "      <td>...</td>\n",
       "      <td>...</td>\n",
       "      <td>...</td>\n",
       "    </tr>\n",
       "    <tr>\n",
       "      <th>7019370</th>\n",
       "      <td>2</td>\n",
       "      <td>2019-02-28 23:29:08</td>\n",
       "      <td>2019-02-28 23:29:11</td>\n",
       "      <td>1</td>\n",
       "      <td>0.0</td>\n",
       "      <td>1</td>\n",
       "      <td>N</td>\n",
       "      <td>193</td>\n",
       "      <td>193</td>\n",
       "      <td>1</td>\n",
       "      <td>0.0</td>\n",
       "      <td>0.0</td>\n",
       "      <td>0.0</td>\n",
       "      <td>0.0</td>\n",
       "      <td>0.0</td>\n",
       "      <td>0.0</td>\n",
       "      <td>0.0</td>\n",
       "      <td>0.0</td>\n",
       "    </tr>\n",
       "    <tr>\n",
       "      <th>7019371</th>\n",
       "      <td>2</td>\n",
       "      <td>2019-02-28 22:48:47</td>\n",
       "      <td>2019-02-28 23:50:19</td>\n",
       "      <td>1</td>\n",
       "      <td>0.0</td>\n",
       "      <td>1</td>\n",
       "      <td>N</td>\n",
       "      <td>141</td>\n",
       "      <td>193</td>\n",
       "      <td>2</td>\n",
       "      <td>0.0</td>\n",
       "      <td>0.0</td>\n",
       "      <td>0.0</td>\n",
       "      <td>0.0</td>\n",
       "      <td>0.0</td>\n",
       "      <td>0.0</td>\n",
       "      <td>0.0</td>\n",
       "      <td>2.5</td>\n",
       "    </tr>\n",
       "    <tr>\n",
       "      <th>7019372</th>\n",
       "      <td>2</td>\n",
       "      <td>2019-02-28 23:41:23</td>\n",
       "      <td>2019-02-28 23:42:23</td>\n",
       "      <td>1</td>\n",
       "      <td>0.0</td>\n",
       "      <td>1</td>\n",
       "      <td>N</td>\n",
       "      <td>264</td>\n",
       "      <td>264</td>\n",
       "      <td>1</td>\n",
       "      <td>0.0</td>\n",
       "      <td>0.0</td>\n",
       "      <td>0.0</td>\n",
       "      <td>0.0</td>\n",
       "      <td>0.0</td>\n",
       "      <td>0.0</td>\n",
       "      <td>0.0</td>\n",
       "      <td>0.0</td>\n",
       "    </tr>\n",
       "    <tr>\n",
       "      <th>7019373</th>\n",
       "      <td>2</td>\n",
       "      <td>2019-02-28 23:12:52</td>\n",
       "      <td>2019-02-28 23:14:16</td>\n",
       "      <td>1</td>\n",
       "      <td>0.0</td>\n",
       "      <td>1</td>\n",
       "      <td>N</td>\n",
       "      <td>264</td>\n",
       "      <td>193</td>\n",
       "      <td>1</td>\n",
       "      <td>0.0</td>\n",
       "      <td>0.0</td>\n",
       "      <td>0.0</td>\n",
       "      <td>0.0</td>\n",
       "      <td>0.0</td>\n",
       "      <td>0.0</td>\n",
       "      <td>0.0</td>\n",
       "      <td>0.0</td>\n",
       "    </tr>\n",
       "    <tr>\n",
       "      <th>7019374</th>\n",
       "      <td>2</td>\n",
       "      <td>2019-02-28 23:10:35</td>\n",
       "      <td>2019-02-28 23:10:37</td>\n",
       "      <td>1</td>\n",
       "      <td>0.0</td>\n",
       "      <td>1</td>\n",
       "      <td>N</td>\n",
       "      <td>264</td>\n",
       "      <td>264</td>\n",
       "      <td>2</td>\n",
       "      <td>0.0</td>\n",
       "      <td>0.0</td>\n",
       "      <td>0.0</td>\n",
       "      <td>0.0</td>\n",
       "      <td>0.0</td>\n",
       "      <td>0.0</td>\n",
       "      <td>0.0</td>\n",
       "      <td>0.0</td>\n",
       "    </tr>\n",
       "  </tbody>\n",
       "</table>\n",
       "<p>7019375 rows × 18 columns</p>\n",
       "</div>"
      ],
      "text/plain": [
       "         VendorID tpep_pickup_datetime tpep_dropoff_datetime  passenger_count  \\\n",
       "0               1  2019-02-01 00:59:04   2019-02-01 01:07:27                1   \n",
       "1               1  2019-02-01 00:33:09   2019-02-01 01:03:58                1   \n",
       "2               1  2019-02-01 00:09:03   2019-02-01 00:09:16                1   \n",
       "3               1  2019-02-01 00:45:38   2019-02-01 00:51:10                1   \n",
       "4               1  2019-02-01 00:25:30   2019-02-01 00:28:14                1   \n",
       "...           ...                  ...                   ...              ...   \n",
       "7019370         2  2019-02-28 23:29:08   2019-02-28 23:29:11                1   \n",
       "7019371         2  2019-02-28 22:48:47   2019-02-28 23:50:19                1   \n",
       "7019372         2  2019-02-28 23:41:23   2019-02-28 23:42:23                1   \n",
       "7019373         2  2019-02-28 23:12:52   2019-02-28 23:14:16                1   \n",
       "7019374         2  2019-02-28 23:10:35   2019-02-28 23:10:37                1   \n",
       "\n",
       "         trip_distance  RatecodeID store_and_fwd_flag  PULocationID  \\\n",
       "0                  2.1           1                  N            48   \n",
       "1                  9.8           1                  N           230   \n",
       "2                  0.0           1                  N           145   \n",
       "3                  0.8           1                  N            95   \n",
       "4                  0.8           1                  N           140   \n",
       "...                ...         ...                ...           ...   \n",
       "7019370            0.0           1                  N           193   \n",
       "7019371            0.0           1                  N           141   \n",
       "7019372            0.0           1                  N           264   \n",
       "7019373            0.0           1                  N           264   \n",
       "7019374            0.0           1                  N           264   \n",
       "\n",
       "         DOLocationID  payment_type  fare_amount  extra  mta_tax  tip_amount  \\\n",
       "0                 234             1          9.0    0.5      0.5         2.0   \n",
       "1                  93             2         32.0    0.5      0.5         0.0   \n",
       "2                 145             2          2.5    0.5      0.5         0.0   \n",
       "3                  95             2          5.5    0.5      0.5         0.0   \n",
       "4                 263             2          5.0    0.5      0.5         0.0   \n",
       "...               ...           ...          ...    ...      ...         ...   \n",
       "7019370           193             1          0.0    0.0      0.0         0.0   \n",
       "7019371           193             2          0.0    0.0      0.0         0.0   \n",
       "7019372           264             1          0.0    0.0      0.0         0.0   \n",
       "7019373           193             1          0.0    0.0      0.0         0.0   \n",
       "7019374           264             2          0.0    0.0      0.0         0.0   \n",
       "\n",
       "         tolls_amount  improvement_surcharge  total_amount  \\\n",
       "0                 0.0                    0.3          12.3   \n",
       "1                 0.0                    0.3          33.3   \n",
       "2                 0.0                    0.3           3.8   \n",
       "3                 0.0                    0.3           6.8   \n",
       "4                 0.0                    0.3           6.3   \n",
       "...               ...                    ...           ...   \n",
       "7019370           0.0                    0.0           0.0   \n",
       "7019371           0.0                    0.0           0.0   \n",
       "7019372           0.0                    0.0           0.0   \n",
       "7019373           0.0                    0.0           0.0   \n",
       "7019374           0.0                    0.0           0.0   \n",
       "\n",
       "         congestion_surcharge  \n",
       "0                         0.0  \n",
       "1                         0.0  \n",
       "2                         0.0  \n",
       "3                         0.0  \n",
       "4                         0.0  \n",
       "...                       ...  \n",
       "7019370                   0.0  \n",
       "7019371                   2.5  \n",
       "7019372                   0.0  \n",
       "7019373                   0.0  \n",
       "7019374                   0.0  \n",
       "\n",
       "[7019375 rows x 18 columns]"
      ]
     },
     "execution_count": 17,
     "metadata": {},
     "output_type": "execute_result"
    }
   ],
   "source": [
    "df"
   ]
  },
  {
   "cell_type": "code",
   "execution_count": 20,
   "id": "6b162615-34fd-4e63-85ad-9309f8d3303f",
   "metadata": {
    "execution": {
     "iopub.execute_input": "2022-02-08T18:27:24.030548Z",
     "iopub.status.busy": "2022-02-08T18:27:24.030286Z",
     "iopub.status.idle": "2022-02-08T18:27:25.181237Z",
     "shell.execute_reply": "2022-02-08T18:27:25.180649Z",
     "shell.execute_reply.started": "2022-02-08T18:27:24.030520Z"
    },
    "tags": []
   },
   "outputs": [
    {
     "name": "stdout",
     "output_type": "stream",
     "text": [
      "Elapsed time is 1.116714 seconds.\n"
     ]
    }
   ],
   "source": [
    "with TicToc():\n",
    "    tips_mean_apply = df.groupby(\"passenger_count\").apply(\n",
    "        lambda x: x[\"tip_amount\"].mean()\n",
    "    )"
   ]
  },
  {
   "cell_type": "code",
   "execution_count": 21,
   "id": "d58f14c2-49e1-4b54-a13d-4b10556a9d1c",
   "metadata": {
    "execution": {
     "iopub.execute_input": "2022-02-08T18:27:55.153737Z",
     "iopub.status.busy": "2022-02-08T18:27:55.153483Z",
     "iopub.status.idle": "2022-02-08T18:27:55.369912Z",
     "shell.execute_reply": "2022-02-08T18:27:55.369176Z",
     "shell.execute_reply.started": "2022-02-08T18:27:55.153708Z"
    }
   },
   "outputs": [
    {
     "name": "stdout",
     "output_type": "stream",
     "text": [
      "Elapsed time is 0.112373 seconds.\n"
     ]
    }
   ],
   "source": [
    "with TicToc():\n",
    "    tips_mean_agg = df.groupby(\"passenger_count\").agg({\"tip_amount\": \"mean\"})"
   ]
  },
  {
   "cell_type": "code",
   "execution_count": 27,
   "id": "50673828-a2a7-4a6e-8cfe-151316e0c501",
   "metadata": {
    "execution": {
     "iopub.execute_input": "2022-02-08T18:44:21.123320Z",
     "iopub.status.busy": "2022-02-08T18:44:21.123043Z",
     "iopub.status.idle": "2022-02-08T18:44:23.812257Z",
     "shell.execute_reply": "2022-02-08T18:44:23.811633Z",
     "shell.execute_reply.started": "2022-02-08T18:44:21.123291Z"
    },
    "tags": []
   },
   "outputs": [],
   "source": [
    "df = df.assign(date=pd.to_datetime(df.tpep_pickup_datetime).dt.date)"
   ]
  },
  {
   "cell_type": "code",
   "execution_count": 28,
   "id": "e27db75a-026d-4a56-9908-2612c1c03167",
   "metadata": {
    "execution": {
     "iopub.execute_input": "2022-02-08T18:44:35.204001Z",
     "iopub.status.busy": "2022-02-08T18:44:35.203754Z",
     "iopub.status.idle": "2022-02-08T18:44:37.234544Z",
     "shell.execute_reply": "2022-02-08T18:44:37.233871Z",
     "shell.execute_reply.started": "2022-02-08T18:44:35.203974Z"
    }
   },
   "outputs": [
    {
     "name": "stdout",
     "output_type": "stream",
     "text": [
      "Elapsed time is 1.993866 seconds.\n"
     ]
    }
   ],
   "source": [
    "with TicToc():\n",
    "    tips_mean_apply = df.groupby(\"date\").apply(lambda x: x[\"tip_amount\"].mean())"
   ]
  },
  {
   "cell_type": "code",
   "execution_count": null,
   "id": "671a3f15-e43c-4bc7-ab75-3be5284069b6",
   "metadata": {},
   "outputs": [],
   "source": []
  },
  {
   "cell_type": "code",
   "execution_count": null,
   "id": "ea4c8241-2ab6-4e16-924a-cc28873a3640",
   "metadata": {},
   "outputs": [],
   "source": []
  }
 ],
 "metadata": {
  "kernelspec": {
   "display_name": "improve_capacity",
   "language": "python",
   "name": "improve_capacity"
  },
  "language_info": {
   "codemirror_mode": {
    "name": "ipython",
    "version": 3
   },
   "file_extension": ".py",
   "mimetype": "text/x-python",
   "name": "python",
   "nbconvert_exporter": "python",
   "pygments_lexer": "ipython3",
   "version": "3.8.12"
  }
 },
 "nbformat": 4,
 "nbformat_minor": 5
}
