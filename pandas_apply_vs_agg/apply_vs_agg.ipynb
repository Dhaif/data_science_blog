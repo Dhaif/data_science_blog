{
 "cells": [
  {
   "cell_type": "markdown",
   "id": "6b48eb35-1550-4561-a0f6-73ac0adb11bd",
   "metadata": {},
   "source": [
    "# No more apply!"
   ]
  },
  {
   "cell_type": "markdown",
   "id": "ab9b9749-08f7-42dc-b241-da98a5a62050",
   "metadata": {},
   "source": [
    "This notebook contains the code presented in the *No more apply! article on my website [here]().\n",
    "\n",
    "Warning: Depending on when you are running this notebook, the code below maybe outdated due to a change in Pandas or Pytictoc version for example. If you experience such issue, please flag it to me and I will update the code."
   ]
  },
  {
   "cell_type": "markdown",
   "id": "1908e31c-56a5-4cd0-9866-3b1836bf34e8",
   "metadata": {},
   "source": [
    "## Imports"
   ]
  },
  {
   "cell_type": "code",
   "execution_count": 17,
   "id": "2d0ffac5-5613-4eab-96cd-20ee92ed1127",
   "metadata": {
    "execution": {
     "iopub.execute_input": "2022-02-12T17:44:06.438643Z",
     "iopub.status.busy": "2022-02-12T17:44:06.438381Z",
     "iopub.status.idle": "2022-02-12T17:44:06.470776Z",
     "shell.execute_reply": "2022-02-12T17:44:06.470122Z",
     "shell.execute_reply.started": "2022-02-12T17:44:06.438616Z"
    },
    "tags": []
   },
   "outputs": [],
   "source": [
    "import pandas as pd\n",
    "from pytictoc import TicToc\n",
    "import numpy as np"
   ]
  },
  {
   "cell_type": "markdown",
   "id": "2073919e-3ab3-4169-bc3f-885dd6ce3d53",
   "metadata": {},
   "source": [
    "## How to use `pandas.apply`"
   ]
  },
  {
   "cell_type": "markdown",
   "id": "e9381064-d8eb-4303-af3a-f3bc59718b3a",
   "metadata": {},
   "source": [
    "Below, we load the dataset *IMDB-Movie-Data.csv*, that you'll found in the data folder of the article repository on GitHub."
   ]
  },
  {
   "cell_type": "code",
   "execution_count": 5,
   "id": "1f0a3286-8660-49c9-8285-ae986d76348c",
   "metadata": {
    "execution": {
     "iopub.execute_input": "2022-02-12T16:21:52.618387Z",
     "iopub.status.busy": "2022-02-12T16:21:52.618126Z",
     "iopub.status.idle": "2022-02-12T16:21:52.657119Z",
     "shell.execute_reply": "2022-02-12T16:21:52.656550Z",
     "shell.execute_reply.started": "2022-02-12T16:21:52.618359Z"
    },
    "tags": []
   },
   "outputs": [],
   "source": [
    "df = pd.read_csv(\"./data/IMDB-Movie-Data.csv\")"
   ]
  },
  {
   "cell_type": "code",
   "execution_count": 6,
   "id": "64581e3e-05c2-4141-bbd4-5c7c4b624052",
   "metadata": {
    "execution": {
     "iopub.execute_input": "2022-02-12T16:22:11.151789Z",
     "iopub.status.busy": "2022-02-12T16:22:11.151539Z",
     "iopub.status.idle": "2022-02-12T16:22:11.203283Z",
     "shell.execute_reply": "2022-02-12T16:22:11.202618Z",
     "shell.execute_reply.started": "2022-02-12T16:22:11.151763Z"
    }
   },
   "outputs": [
    {
     "data": {
      "text/html": [
       "<div>\n",
       "<style scoped>\n",
       "    .dataframe tbody tr th:only-of-type {\n",
       "        vertical-align: middle;\n",
       "    }\n",
       "\n",
       "    .dataframe tbody tr th {\n",
       "        vertical-align: top;\n",
       "    }\n",
       "\n",
       "    .dataframe thead th {\n",
       "        text-align: right;\n",
       "    }\n",
       "</style>\n",
       "<table border=\"1\" class=\"dataframe\">\n",
       "  <thead>\n",
       "    <tr style=\"text-align: right;\">\n",
       "      <th></th>\n",
       "      <th>Rank</th>\n",
       "      <th>Title</th>\n",
       "      <th>Genre</th>\n",
       "      <th>Description</th>\n",
       "      <th>Director</th>\n",
       "      <th>Actors</th>\n",
       "      <th>Year</th>\n",
       "      <th>Runtime (Minutes)</th>\n",
       "      <th>Rating</th>\n",
       "      <th>Votes</th>\n",
       "      <th>Revenue (Millions)</th>\n",
       "      <th>Metascore</th>\n",
       "    </tr>\n",
       "  </thead>\n",
       "  <tbody>\n",
       "    <tr>\n",
       "      <th>0</th>\n",
       "      <td>1</td>\n",
       "      <td>Guardians of the Galaxy</td>\n",
       "      <td>Action,Adventure,Sci-Fi</td>\n",
       "      <td>A group of intergalactic criminals are forced ...</td>\n",
       "      <td>James Gunn</td>\n",
       "      <td>Chris Pratt, Vin Diesel, Bradley Cooper, Zoe S...</td>\n",
       "      <td>2014</td>\n",
       "      <td>121</td>\n",
       "      <td>8.1</td>\n",
       "      <td>757074</td>\n",
       "      <td>333.13</td>\n",
       "      <td>76.0</td>\n",
       "    </tr>\n",
       "    <tr>\n",
       "      <th>1</th>\n",
       "      <td>2</td>\n",
       "      <td>Prometheus</td>\n",
       "      <td>Adventure,Mystery,Sci-Fi</td>\n",
       "      <td>Following clues to the origin of mankind, a te...</td>\n",
       "      <td>Ridley Scott</td>\n",
       "      <td>Noomi Rapace, Logan Marshall-Green, Michael Fa...</td>\n",
       "      <td>2012</td>\n",
       "      <td>124</td>\n",
       "      <td>7.0</td>\n",
       "      <td>485820</td>\n",
       "      <td>126.46</td>\n",
       "      <td>65.0</td>\n",
       "    </tr>\n",
       "    <tr>\n",
       "      <th>2</th>\n",
       "      <td>3</td>\n",
       "      <td>Split</td>\n",
       "      <td>Horror,Thriller</td>\n",
       "      <td>Three girls are kidnapped by a man with a diag...</td>\n",
       "      <td>M. Night Shyamalan</td>\n",
       "      <td>James McAvoy, Anya Taylor-Joy, Haley Lu Richar...</td>\n",
       "      <td>2016</td>\n",
       "      <td>117</td>\n",
       "      <td>7.3</td>\n",
       "      <td>157606</td>\n",
       "      <td>138.12</td>\n",
       "      <td>62.0</td>\n",
       "    </tr>\n",
       "    <tr>\n",
       "      <th>3</th>\n",
       "      <td>4</td>\n",
       "      <td>Sing</td>\n",
       "      <td>Animation,Comedy,Family</td>\n",
       "      <td>In a city of humanoid animals, a hustling thea...</td>\n",
       "      <td>Christophe Lourdelet</td>\n",
       "      <td>Matthew McConaughey,Reese Witherspoon, Seth Ma...</td>\n",
       "      <td>2016</td>\n",
       "      <td>108</td>\n",
       "      <td>7.2</td>\n",
       "      <td>60545</td>\n",
       "      <td>270.32</td>\n",
       "      <td>59.0</td>\n",
       "    </tr>\n",
       "    <tr>\n",
       "      <th>4</th>\n",
       "      <td>5</td>\n",
       "      <td>Suicide Squad</td>\n",
       "      <td>Action,Adventure,Fantasy</td>\n",
       "      <td>A secret government agency recruits some of th...</td>\n",
       "      <td>David Ayer</td>\n",
       "      <td>Will Smith, Jared Leto, Margot Robbie, Viola D...</td>\n",
       "      <td>2016</td>\n",
       "      <td>123</td>\n",
       "      <td>6.2</td>\n",
       "      <td>393727</td>\n",
       "      <td>325.02</td>\n",
       "      <td>40.0</td>\n",
       "    </tr>\n",
       "  </tbody>\n",
       "</table>\n",
       "</div>"
      ],
      "text/plain": [
       "   Rank                    Title                     Genre  \\\n",
       "0     1  Guardians of the Galaxy   Action,Adventure,Sci-Fi   \n",
       "1     2               Prometheus  Adventure,Mystery,Sci-Fi   \n",
       "2     3                    Split           Horror,Thriller   \n",
       "3     4                     Sing   Animation,Comedy,Family   \n",
       "4     5            Suicide Squad  Action,Adventure,Fantasy   \n",
       "\n",
       "                                         Description              Director  \\\n",
       "0  A group of intergalactic criminals are forced ...            James Gunn   \n",
       "1  Following clues to the origin of mankind, a te...          Ridley Scott   \n",
       "2  Three girls are kidnapped by a man with a diag...    M. Night Shyamalan   \n",
       "3  In a city of humanoid animals, a hustling thea...  Christophe Lourdelet   \n",
       "4  A secret government agency recruits some of th...            David Ayer   \n",
       "\n",
       "                                              Actors  Year  Runtime (Minutes)  \\\n",
       "0  Chris Pratt, Vin Diesel, Bradley Cooper, Zoe S...  2014                121   \n",
       "1  Noomi Rapace, Logan Marshall-Green, Michael Fa...  2012                124   \n",
       "2  James McAvoy, Anya Taylor-Joy, Haley Lu Richar...  2016                117   \n",
       "3  Matthew McConaughey,Reese Witherspoon, Seth Ma...  2016                108   \n",
       "4  Will Smith, Jared Leto, Margot Robbie, Viola D...  2016                123   \n",
       "\n",
       "   Rating   Votes  Revenue (Millions)  Metascore  \n",
       "0     8.1  757074              333.13       76.0  \n",
       "1     7.0  485820              126.46       65.0  \n",
       "2     7.3  157606              138.12       62.0  \n",
       "3     7.2   60545              270.32       59.0  \n",
       "4     6.2  393727              325.02       40.0  "
      ]
     },
     "execution_count": 6,
     "metadata": {},
     "output_type": "execute_result"
    }
   ],
   "source": [
    "# Quick look into the table:\n",
    "df.head()"
   ]
  },
  {
   "cell_type": "markdown",
   "id": "6c5f3911-5079-4986-b135-d4300f7c9fde",
   "metadata": {},
   "source": [
    "Let's `groupby` the movies by *Genre*, and compute the mean of the *Metascore*. Below, we use the method `pd.apply`:\n",
    "\n"
   ]
  },
  {
   "cell_type": "code",
   "execution_count": 7,
   "id": "010e46ec-ea7a-46a9-9273-a37f1c7b0d89",
   "metadata": {
    "execution": {
     "iopub.execute_input": "2022-02-12T16:49:08.551707Z",
     "iopub.status.busy": "2022-02-12T16:49:08.551416Z",
     "iopub.status.idle": "2022-02-12T16:49:08.616359Z",
     "shell.execute_reply": "2022-02-12T16:49:08.615717Z",
     "shell.execute_reply.started": "2022-02-12T16:49:08.551679Z"
    },
    "tags": []
   },
   "outputs": [
    {
     "name": "stdout",
     "output_type": "stream",
     "text": [
      "Elapsed time is 0.026645 seconds.\n"
     ]
    }
   ],
   "source": [
    "with TicToc():\n",
    "    metascore_mean_apply = df.groupby(\"Genre\").apply(lambda x: x[\"Metascore\"].mean())"
   ]
  },
  {
   "cell_type": "markdown",
   "id": "c7329c41-15c5-4ad3-b98b-55707c7430ee",
   "metadata": {},
   "source": [
    "## How to use `pandas.aggregate`\n"
   ]
  },
  {
   "cell_type": "markdown",
   "id": "6be2096b-0df3-474e-8a30-3dd4b2a5ca7d",
   "metadata": {},
   "source": [
    "Below, we repeat the same process as above, but this time we use the methode `pd.aggregate`"
   ]
  },
  {
   "cell_type": "code",
   "execution_count": 13,
   "id": "5f3dfd15-b66d-40a2-bcdb-10741d8bb959",
   "metadata": {
    "execution": {
     "iopub.execute_input": "2022-02-12T17:22:30.720799Z",
     "iopub.status.busy": "2022-02-12T17:22:30.720543Z",
     "iopub.status.idle": "2022-02-12T17:22:30.755886Z",
     "shell.execute_reply": "2022-02-12T17:22:30.755120Z",
     "shell.execute_reply.started": "2022-02-12T17:22:30.720772Z"
    },
    "tags": []
   },
   "outputs": [
    {
     "name": "stdout",
     "output_type": "stream",
     "text": [
      "Elapsed time is 0.001736 seconds.\n"
     ]
    }
   ],
   "source": [
    "with TicToc():\n",
    "    metascore_mean_agg = df.groupby(\"Genre\").agg({\"Metascore\": \"mean\"})"
   ]
  },
  {
   "cell_type": "markdown",
   "id": "3ebd5ec9-5c69-45a1-82de-4344417a7aeb",
   "metadata": {},
   "source": [
    "Note that we used the built-in *mean* aggregation method in Pandas, but we can also called a custom function as we did when using `pd.aaply`:"
   ]
  },
  {
   "cell_type": "code",
   "execution_count": 18,
   "id": "5eee48e6-b910-4eba-a090-366f3083ae2f",
   "metadata": {
    "execution": {
     "iopub.execute_input": "2022-02-12T17:44:10.610422Z",
     "iopub.status.busy": "2022-02-12T17:44:10.610170Z",
     "iopub.status.idle": "2022-02-12T17:44:10.661248Z",
     "shell.execute_reply": "2022-02-12T17:44:10.659449Z",
     "shell.execute_reply.started": "2022-02-12T17:44:10.610397Z"
    },
    "tags": []
   },
   "outputs": [
    {
     "name": "stdout",
     "output_type": "stream",
     "text": [
      "Elapsed time is 0.002089 seconds.\n"
     ]
    }
   ],
   "source": [
    "with TicToc():\n",
    "    metascore_mean_agg = df.groupby(\"Genre\").agg({\"Metascore\": np.mean}, axis=0)"
   ]
  },
  {
   "cell_type": "code",
   "execution_count": null,
   "id": "ea4c8241-2ab6-4e16-924a-cc28873a3640",
   "metadata": {},
   "outputs": [],
   "source": []
  }
 ],
 "metadata": {
  "kernelspec": {
   "display_name": "improve_capacity",
   "language": "python",
   "name": "improve_capacity"
  },
  "language_info": {
   "codemirror_mode": {
    "name": "ipython",
    "version": 3
   },
   "file_extension": ".py",
   "mimetype": "text/x-python",
   "name": "python",
   "nbconvert_exporter": "python",
   "pygments_lexer": "ipython3",
   "version": "3.8.12"
  }
 },
 "nbformat": 4,
 "nbformat_minor": 5
}
